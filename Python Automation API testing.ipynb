{
 "cells": [
  {
   "cell_type": "code",
   "execution_count": 69,
   "metadata": {},
   "outputs": [],
   "source": [
    "import requests\n",
    "import flickr_api\n",
    "import pprint"
   ]
  },
  {
   "cell_type": "markdown",
   "metadata": {},
   "source": [
    "# Automating the getPopular API call"
   ]
  },
  {
   "cell_type": "code",
   "execution_count": 70,
   "metadata": {},
   "outputs": [
    {
     "name": "stdout",
     "output_type": "stream",
     "text": [
      "{'photos': {'page': 1, 'pages': 0, 'perpage': 100, 'total': 0, 'photo': []}, 'stat': 'ok'}\n",
      "200\n"
     ]
    }
   ],
   "source": [
    "response = requests.get(\"https://www.flickr.com/services/rest/?method=flickr.photos.getPopular&api_key=bc6c21e9af98365b3a1281f2f8dfae2f&user_id=193057944%40N03&format=json&nojsoncallback=1\")\n",
    "\n",
    "print(response.json())\n",
    "print(response.status_code)\n",
    "\n"
   ]
  },
  {
   "cell_type": "markdown",
   "metadata": {},
   "source": [
    "# Authentication "
   ]
  },
  {
   "cell_type": "code",
   "execution_count": 71,
   "metadata": {},
   "outputs": [],
   "source": [
    "flickr_api.set_keys(api_key = 'bc6c21e9af98365b3a1281f2f8dfae2f', api_secret = '7b81bb03637c5623')"
   ]
  },
  {
   "cell_type": "markdown",
   "metadata": {},
   "source": [
    "After running the below code, we have to go to the given url and after allowing, copy the oauth verifier"
   ]
  },
  {
   "cell_type": "code",
   "execution_count": 72,
   "metadata": {},
   "outputs": [
    {
     "name": "stdout",
     "output_type": "stream",
     "text": [
      "https://www.flickr.com/services/oauth/authorize?oauth_token=72157719254296324-c3c961c8888085b1&perms=write\n"
     ]
    }
   ],
   "source": [
    "a = flickr_api.auth.AuthHandler() # creates a new AuthHandler object\n",
    "perms = \"write\" # set the required permissions\n",
    "url = a.get_authorization_url(perms)\n",
    "print(url)"
   ]
  },
  {
   "cell_type": "code",
   "execution_count": 73,
   "metadata": {},
   "outputs": [],
   "source": [
    "a.set_verifier(\"efd139b2c6fa0048\") # copy oauth_verifier tag here\n",
    "flickr_api.set_auth_handler(a) # set the AuthHandler for the session"
   ]
  },
  {
   "cell_type": "code",
   "execution_count": 74,
   "metadata": {},
   "outputs": [],
   "source": [
    "a.save('auth_session1.txt')"
   ]
  },
  {
   "cell_type": "code",
   "execution_count": 75,
   "metadata": {},
   "outputs": [],
   "source": [
    "flickr_api.set_auth_handler('auth_session1.txt')"
   ]
  },
  {
   "cell_type": "code",
   "execution_count": 76,
   "metadata": {},
   "outputs": [],
   "source": [
    "#flickr.set_keys(api_key=\"bc6c21e9af98365b3a1281f2f8dfae2f\",\n",
    "#                api_secret=\"7b81bb03637c5623\") # not this line if you store these details in flickr_keys.py\n",
    "flickr.set_auth_handler(\"auth_session1.txt\") # or whatever you save your auth file as"
   ]
  },
  {
   "cell_type": "code",
   "execution_count": 77,
   "metadata": {},
   "outputs": [],
   "source": [
    "a = flickr_api.auth.AuthHandler(callback = \"http://www.mysite.com/get_verifier/\")"
   ]
  },
  {
   "cell_type": "code",
   "execution_count": 78,
   "metadata": {},
   "outputs": [
    {
     "data": {
      "text/plain": [
       "<flickr_api.auth.AuthHandler at 0x13427adaaf0>"
      ]
     },
     "execution_count": 78,
     "metadata": {},
     "output_type": "execute_result"
    }
   ],
   "source": [
    "a"
   ]
  },
  {
   "cell_type": "code",
   "execution_count": 79,
   "metadata": {
    "scrolled": true
   },
   "outputs": [
    {
     "name": "stdout",
     "output_type": "stream",
     "text": [
      "b'<?xml version=\"1.0\" encoding=\"utf-8\" ?>\\n<rsp stat=\"ok\">\\n<method name=\"flickr.blogs.postPhoto\" needslogin=\"1\" needssigning=\"1\" requiredperms=\"2\">\\n\\t<description />\\n</method>\\n<arguments>\\n\\t<argument name=\"api_key\" optional=\"0\">Your API application key. &lt;a href=&quot;/services/api/misc.api_keys.html&quot;&gt;See here&lt;/a&gt; for more details.</argument>\\n\\t<argument name=\"blog_id\" optional=\"1\">The id of the blog to post to.</argument>\\n\\t<argument name=\"photo_id\" optional=\"0\">The id of the photo to blog</argument>\\n\\t<argument name=\"title\" optional=\"0\">The blog post title</argument>\\n\\t<argument name=\"description\" optional=\"0\">The blog post body</argument>\\n\\t<argument name=\"blog_password\" optional=\"1\">The password for the blog (used when the blog does not have a stored password).</argument>\\n\\t<argument name=\"service\" optional=\"1\">A Flickr supported blogging service.  Instead of passing a blog id you can pass a service id and we\\'ll post to the first blog of that service we find.</argument>\\n</arguments>\\n<errors>\\n\\t<error code=\"1\" message=\"Blog not found\">The blog id was not the id of a blog belonging to the calling user</error>\\n\\t<error code=\"2\" message=\"Photo not found\">The photo id was not the id of a public photo</error>\\n\\t<error code=\"3\" message=\"Password needed\">A password is not stored for the blog and one was not passed with the request</error>\\n\\t<error code=\"4\" message=\"Blog post failed\">The blog posting failed (a blogging API failure of some sort)</error>\\n\\t<error code=\"95\" message=\"SSL is required\">SSL is required to access the Flickr API.</error>\\n\\t<error code=\"96\" message=\"Invalid signature\">The passed signature was invalid.</error>\\n\\t<error code=\"97\" message=\"Missing signature\">The call required signing but no signature was sent.</error>\\n\\t<error code=\"98\" message=\"Login failed / Invalid auth token\">The login details or auth token passed were invalid.</error>\\n\\t<error code=\"99\" message=\"User not logged in / Insufficient permissions\">The method requires user authentication but the user was not logged in, or the authenticated method call did not have the required permissions.</error>\\n\\t<error code=\"100\" message=\"Invalid API Key\">The API key passed was not valid or has expired.</error>\\n\\t<error code=\"105\" message=\"Service currently unavailable\">The requested service is temporarily unavailable.</error>\\n\\t<error code=\"106\" message=\"Write operation failed\">The requested operation failed due to a temporary issue.</error>\\n\\t<error code=\"111\" message=\"Format &quot;xxx&quot; not found\">The requested response format was not found.</error>\\n\\t<error code=\"112\" message=\"Method &quot;xxx&quot; not found\">The requested method was not found.</error>\\n\\t<error code=\"114\" message=\"Invalid SOAP envelope\">The SOAP envelope send in the request could not be parsed.</error>\\n\\t<error code=\"115\" message=\"Invalid XML-RPC Method Call\">The XML-RPC request document could not be parsed.</error>\\n\\t<error code=\"116\" message=\"Bad URL found\">One or more arguments contained a URL that has been used for abuse on Flickr.</error>\\n</errors>\\n</rsp>\\n'\n"
     ]
    }
   ],
   "source": [
    "from flickr_api.api import flickr\n",
    "print(flickr.reflection.getMethodInfo(method_name = \"flickr.blogs.postPhoto\"))"
   ]
  },
  {
   "cell_type": "markdown",
   "metadata": {},
   "source": [
    "Below is just a method to test the login"
   ]
  },
  {
   "cell_type": "code",
   "execution_count": 80,
   "metadata": {},
   "outputs": [
    {
     "data": {
      "text/plain": [
       "Person(id=b'193057944@N03', username=b'atharvandogra007')"
      ]
     },
     "execution_count": 80,
     "metadata": {},
     "output_type": "execute_result"
    }
   ],
   "source": [
    "user = flickr_api.test.login()\n",
    "user"
   ]
  },
  {
   "cell_type": "markdown",
   "metadata": {},
   "source": [
    "Calling the postPhoto API"
   ]
  },
  {
   "cell_type": "code",
   "execution_count": 81,
   "metadata": {},
   "outputs": [
    {
     "data": {
      "text/plain": [
       "b'<?xml version=\"1.0\" encoding=\"utf-8\" ?>\\n<rsp stat=\"fail\">\\n\\t<err code=\"1\" msg=\"Blog not found\" />\\n</rsp>\\n'"
      ]
     },
     "execution_count": 81,
     "metadata": {},
     "output_type": "execute_result"
    }
   ],
   "source": [
    "post = flickr.blogs.postPhoto(api_key = \"bc6c21e9af98365b3a1281f2f8dfae2f\", photo_id = \"51178496637\", title =\"Chopwell woods in Autumn\" , description =\"Chopwell has been my little escape place every so often for the last few months. Its very peaceful - hardly anyone about. I can just about mak it there and back with half an hour or so to spare on a lunch time. I just wander, take the odd picture - get away from work.\")\n",
    "post"
   ]
  },
  {
   "cell_type": "code",
   "execution_count": null,
   "metadata": {},
   "outputs": [],
   "source": []
  }
 ],
 "metadata": {
  "kernelspec": {
   "display_name": "Python 3",
   "language": "python",
   "name": "python3"
  },
  "language_info": {
   "codemirror_mode": {
    "name": "ipython",
    "version": 3
   },
   "file_extension": ".py",
   "mimetype": "text/x-python",
   "name": "python",
   "nbconvert_exporter": "python",
   "pygments_lexer": "ipython3",
   "version": "3.8.5"
  }
 },
 "nbformat": 4,
 "nbformat_minor": 4
}
